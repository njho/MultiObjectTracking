{
 "cells": [
  {
   "cell_type": "code",
   "execution_count": 9,
   "metadata": {},
   "outputs": [
    {
     "name": "stderr",
     "output_type": "stream",
     "text": [
      "100%|██████████| 1913/1913 [01:18<00:00, 24.29it/s]\n"
     ]
    }
   ],
   "source": [
    "import glob\n",
    "import cv2\n",
    "import time\n",
    "from tqdm import tqdm\n",
    "\n",
    "path = glob.glob(\"/Users/nicholasho/Documents/GoVertical/Research/TrackR-CNN/forwarded/conv3d_sep2/vis/detections/img1/*.jpg\")\n",
    "# path = glob.glob(\"/Users/nicholasho/Documents/GoVertical/Research/TrackR-CNN/forwarded/conv3d_sep2/vis/tracks/img1/*.jpg\")\n",
    "\n",
    "video_name = 'detections.mp4'\n",
    "\n",
    "images = sorted(path)\n",
    "\n",
    "frame = cv2.imread(images[0])\n",
    "height, width, layers = frame.shape\n",
    "\n",
    "fourcc = cv2.VideoWriter_fourcc(*'MP4V')\n",
    "\n",
    "video = cv2.VideoWriter(video_name, fourcc, 25, (width,height))\n",
    "\n",
    "for img in tqdm(images):\n",
    "    video.write(cv2.imread(img))\n",
    "\n",
    "cv2.destroyAllWindows()\n",
    "video.release()    \n"
   ]
  },
  {
   "cell_type": "code",
   "execution_count": null,
   "metadata": {},
   "outputs": [],
   "source": [
    "print(cv_img)"
   ]
  },
  {
   "cell_type": "code",
   "execution_count": null,
   "metadata": {},
   "outputs": [],
   "source": []
  }
 ],
 "metadata": {
  "kernelspec": {
   "display_name": "Python 3",
   "language": "python",
   "name": "python3"
  },
  "language_info": {
   "codemirror_mode": {
    "name": "ipython",
    "version": 3
   },
   "file_extension": ".py",
   "mimetype": "text/x-python",
   "name": "python",
   "nbconvert_exporter": "python",
   "pygments_lexer": "ipython3",
   "version": "3.6.9"
  }
 },
 "nbformat": 4,
 "nbformat_minor": 2
}
