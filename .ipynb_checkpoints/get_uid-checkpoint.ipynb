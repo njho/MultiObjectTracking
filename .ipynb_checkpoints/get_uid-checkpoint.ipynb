{
 "cells": [
  {
   "cell_type": "code",
   "execution_count": 1,
   "metadata": {},
   "outputs": [],
   "source": [
    "import torch\n",
    "import os"
   ]
  },
  {
   "cell_type": "code",
   "execution_count": 2,
   "metadata": {},
   "outputs": [],
   "source": [
    "video_names = os.listdir('../../splitVideo/scene_patches/')\n",
    "video_names = ['cardiB']"
   ]
  },
  {
   "cell_type": "code",
   "execution_count": 3,
   "metadata": {
    "scrolled": true
   },
   "outputs": [
    {
     "name": "stdout",
     "output_type": "stream",
     "text": [
      "Traceback (most recent call last):\r\n",
      "  File \"run_reid_on_scenes.py\", line 1, in <module>\r\n",
      "    import torch\r\n",
      "ImportError: No module named torch\r\n"
     ]
    }
   ],
   "source": [
    "for video in video_names:\n",
    "    if video[0] != '.': # keeps from going out of bounds    \n",
    "        !python run_reid_on_scenes.py \\\n",
    "                    --scene_path=..//..//splitVideo//scene_patches//\"$video\"/\\\n",
    "                    --out_path=.//uid_json//\\\n",
    "                    --jsons_path=..//..//splitVideo//scene_json_bb_split//\"$video\"//\\\n",
    "                    --th=0.5 \\\n",
    "                    --file_name_out=\"$video\"\n",
    "        # if bounding boxes overlap (access bounding boxes, see when they overlap)\n",
    "        #if bounding\n",
    "            # put overlapping bounding boxes in a folder\n",
    "            # run re-id on the folder\n",
    "            "
   ]
  },
  {
   "cell_type": "code",
   "execution_count": 4,
   "metadata": {},
   "outputs": [
    {
     "ename": "OSError",
     "evalue": "[Errno 2] No such file or directory: '..//..//splitVideo//scene_patches//cardiB//.ipynb_checkpoints'",
     "output_type": "error",
     "traceback": [
      "\u001b[0;31m---------------------------------------------------------------------------\u001b[0m",
      "\u001b[0;31mOSError\u001b[0m                                   Traceback (most recent call last)",
      "\u001b[0;32m<ipython-input-4-cb0e9868dd40>\u001b[0m in \u001b[0;36m<module>\u001b[0;34m()\u001b[0m\n\u001b[1;32m      1\u001b[0m \u001b[0;32mimport\u001b[0m \u001b[0mos\u001b[0m\u001b[0;34m\u001b[0m\u001b[0m\n\u001b[1;32m      2\u001b[0m \u001b[0;31m#os.rmdir('../../splitVideo/scene_patches/gioBulla/scene_82/.ipynb_checkpoints')\u001b[0m\u001b[0;34m\u001b[0m\u001b[0;34m\u001b[0m\u001b[0m\n\u001b[0;32m----> 3\u001b[0;31m \u001b[0mos\u001b[0m\u001b[0;34m.\u001b[0m\u001b[0mrmdir\u001b[0m\u001b[0;34m(\u001b[0m\u001b[0;34m'..//..//splitVideo//scene_patches//cardiB//.ipynb_checkpoints'\u001b[0m\u001b[0;34m)\u001b[0m\u001b[0;34m\u001b[0m\u001b[0m\n\u001b[0m",
      "\u001b[0;31mOSError\u001b[0m: [Errno 2] No such file or directory: '..//..//splitVideo//scene_patches//cardiB//.ipynb_checkpoints'"
     ]
    }
   ],
   "source": [
    "#os.rmdir('../../splitVideo/scene_patches/gioBulla/scene_82/.ipynb_checkpoints') \n",
    "os.rmdir('..//..//splitVideo//scene_patches//cardiB//.ipynb_checkpoints') "
   ]
  },
  {
   "cell_type": "code",
   "execution_count": 5,
   "metadata": {},
   "outputs": [
    {
     "data": {
      "text/plain": [
       "['Major_Lazer_&_Anitta_Make_It_Hot']"
      ]
     },
     "execution_count": 5,
     "metadata": {},
     "output_type": "execute_result"
    }
   ],
   "source": [
    "video_names"
   ]
  },
  {
   "cell_type": "code",
   "execution_count": null,
   "metadata": {},
   "outputs": [],
   "source": []
  }
 ],
 "metadata": {
  "kernelspec": {
   "display_name": "Python 3",
   "language": "python",
   "name": "python3"
  },
  "language_info": {
   "codemirror_mode": {
    "name": "ipython",
    "version": 3
   },
   "file_extension": ".py",
   "mimetype": "text/x-python",
   "name": "python",
   "nbconvert_exporter": "python",
   "pygments_lexer": "ipython3",
   "version": "3.6.9"
  }
 },
 "nbformat": 4,
 "nbformat_minor": 2
}
